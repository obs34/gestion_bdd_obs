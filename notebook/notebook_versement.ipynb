{
 "cells": [
  {
   "cell_type": "markdown",
   "metadata": {},
   "source": [
    "# Notebook de versement de données\n",
    "\n",
    "Ce notebook permet de verser des données Excel dans une base PostgreSQL."
   ]
  },
  {
   "cell_type": "markdown",
   "metadata": {},
   "source": [
    "## 1. Importation des packages"
   ]
  },
  {
   "cell_type": "code",
   "execution_count": 2,
   "metadata": {},
   "outputs": [],
   "source": [
    "import sys\n",
    "sys.path.append('..')\n",
    "\n",
    "from script.body.base_donnees import ConnectionBaseDeDonnees\n",
    "from script.body.livre import Livre\n",
    "from script.body.traitement import Traitement\n",
    "from script.body.versement import Versement\n",
    "from script.branch.gestion_dossier import GestionDossier\n",
    "from script.leaf.validator import DataValidator\n",
    "from script.leaf.catalogue import Catalogue\n",
    "from script.branch.gomme import Gomme"
   ]
  },
  {
   "cell_type": "markdown",
   "metadata": {},
   "source": [
    "## 2. Configuration de la connexion"
   ]
  },
  {
   "cell_type": "code",
   "execution_count": 2,
   "metadata": {},
   "outputs": [
    {
     "name": "stdout",
     "output_type": "stream",
     "text": [
      "Connexion réussie à Recette test !\n"
     ]
    }
   ],
   "source": [
    "# Connexion à la base de données\n",
    "db = ConnectionBaseDeDonnees()\n",
    "conn, schema = db.connexion_observatoire()"
   ]
  },
  {
   "cell_type": "markdown",
   "metadata": {},
   "source": [
    "## 3. Configuration du versement"
   ]
  },
  {
   "cell_type": "code",
   "execution_count": 3,
   "metadata": {},
   "outputs": [
    {
     "name": "stdout",
     "output_type": "stream",
     "text": [
      "Vous avez choisi l'échelle commune.\n"
     ]
    }
   ],
   "source": [
    "# Paramètres du versement\n",
    "fichier_excel = \"../data/tuto.xlsx\"\n",
    "annee = 2025\n",
    "theme = \"contrainteag2\"\n",
    "base = \"table\"\n",
    "source = \"valeur\"\n",
    "\n",
    "# Validation du fichier\n",
    "if not DataValidator.validate_excel_file(fichier_excel):\n",
    "    raise ValueError(\"Fichier Excel invalide.\")\n",
    "else:\n",
    "    print(\"Fichier Excel valide.\")\n",
    "\n",
    "# Enregistrement des paramètres du versement\n",
    "livre = Livre(\n",
    "    conn, \n",
    "    schema=schema, \n",
    "    theme=theme,\n",
    "    base=base, \n",
    "    source=source, \n",
    "    annee=annee\n",
    ")\n",
    "livre.echelle = livre.choix_echelle()"
   ]
  },
  {
   "cell_type": "markdown",
   "metadata": {},
   "source": [
    "## Catalogue / Facultatif"
   ]
  },
  {
   "cell_type": "code",
   "execution_count": null,
   "metadata": {},
   "outputs": [],
   "source": [
    "catalogue = Catalogue(livre)\n",
    "catalogue.liste_table(afficher=True)"
   ]
  },
  {
   "cell_type": "code",
   "execution_count": null,
   "metadata": {},
   "outputs": [],
   "source": [
    "catalogue.catalogue()"
   ]
  },
  {
   "cell_type": "markdown",
   "metadata": {},
   "source": [
    "## 4. Traitement des données"
   ]
  },
  {
   "cell_type": "code",
   "execution_count": 4,
   "metadata": {},
   "outputs": [
    {
     "name": "stdout",
     "output_type": "stream",
     "text": [
      "Données lues.\n",
      "Données sérialisées.\n",
      "ID ajoutés.\n",
      "Fichiers vars temporaires créés. Son nom est : traitement_20250218160627\n",
      "Dossier temporaire créé.\n",
      "contrainteag2_test_var.csv a été créé dans le dossier traitement_20250218160627.\n",
      "contrainteag2_test_mod.csv a été créé dans le dossier traitement_20250218160627.\n",
      "contrainteag2_table_valeur.csv a été créé dans le dossier traitement_20250218160627.\n",
      "contrainteag2_test_vers.csv a été créé dans le dossier traitement_20250218160627.\n",
      "Données enregistrées.\n",
      "traitement a pris 0.68 secondes\n"
     ]
    }
   ],
   "source": [
    "# Traitement des données\n",
    "traiteur = Traitement(conn, fichier_excel, livre)\n",
    "traiteur.traitement()"
   ]
  },
  {
   "cell_type": "markdown",
   "metadata": {},
   "source": [
    "## 5. Sauvegarde en base de données"
   ]
  },
  {
   "cell_type": "code",
   "execution_count": 5,
   "metadata": {},
   "outputs": [
    {
     "name": "stdout",
     "output_type": "stream",
     "text": [
      "CREATE TABLE test.contrainteag2_test_mod (id_mod INTEGER, nom_mod VARCHAR(8000), joli_nom_mod VARCHAR(8000), mod_regroupement VARCHAR(8000), lib_long_mod VARCHAR(8000));\n",
      "Table contrainteag2_test_mod créée.\n",
      "Données de contrainteag2_test_mod insérées.\n",
      "CREATE TABLE test.contrainteag2_test_var (id_var INTEGER, nom_var VARCHAR(8000), joli_nom_var VARCHAR(8000), var_regroupement VARCHAR(8000), lib_long_var VARCHAR(8000));\n",
      "Table contrainteag2_test_var créée.\n",
      "Données de contrainteag2_test_var insérées.\n",
      "CREATE TABLE test.contrainteag2_test_vers (id_versement INTEGER, nom_table VARCHAR(8000), annee INTEGER, echelle VARCHAR(8000), theme VARCHAR(8000), source VARCHAR(8000), commentaire VARCHAR(8000), url VARCHAR(8000));\n",
      "Table contrainteag2_test_vers créée.\n",
      "Données de contrainteag2_test_vers insérées.\n",
      "CREATE TABLE test.contrainteag2_table_valeur (id_composite VARCHAR(8000), id_versement INTEGER, annee INTEGER, echelle VARCHAR(8000), code_entite INTEGER, id_var INTEGER, id_mod INTEGER, valeur INTEGER);\n",
      "Table contrainteag2_table_valeur créée.\n",
      "Données de contrainteag2_table_valeur insérées.\n",
      "versement a pris 0.08 secondes\n"
     ]
    }
   ],
   "source": [
    "# Sauvegarde des données\n",
    "versement = Versement(conn, livre)\n",
    "versement.versement()"
   ]
  },
  {
   "cell_type": "markdown",
   "metadata": {},
   "source": [
    "## 6. Suppression des fichiers temporaires"
   ]
  },
  {
   "cell_type": "code",
   "execution_count": 11,
   "metadata": {},
   "outputs": [
    {
     "name": "stdout",
     "output_type": "stream",
     "text": [
      "Le dossier traitement_20250218095201 a été supprimé.\n"
     ]
    }
   ],
   "source": [
    "gestionnaire_de_dossier = GestionDossier(livre)\n",
    "gestionnaire_de_dossier.delete_file()"
   ]
  },
  {
   "cell_type": "markdown",
   "metadata": {},
   "source": [
    "## 7. Suppression de table / versement"
   ]
  },
  {
   "cell_type": "code",
   "execution_count": null,
   "metadata": {},
   "outputs": [],
   "source": [
    "gomme = Gomme(conn, livre)\n",
    "gomme.suppression_table(table_cible='', id_versement_cible=None, garder_table=False)"
   ]
  },
  {
   "cell_type": "markdown",
   "metadata": {},
   "source": [
    "## 8. Ajout des contraintes sur les tables en production"
   ]
  },
  {
   "cell_type": "code",
   "execution_count": 3,
   "metadata": {},
   "outputs": [
    {
     "name": "stdout",
     "output_type": "stream",
     "text": [
      "Connexion réussie à Recette ODH !\n"
     ]
    }
   ],
   "source": [
    "# Connexion à la base de données\n",
    "db = ConnectionBaseDeDonnees()\n",
    "conn, schema = db.connexion_observatoire()\n",
    "\n",
    "theme = \"contrainte\"\n",
    "base = \"table\"\n",
    "source = \"valeur\"\n",
    "annee=2025\n",
    "\n",
    "livre = Livre(\n",
    "    conn, \n",
    "    schema=schema, \n",
    "    theme=theme,\n",
    "    base=base, \n",
    "    source=source, \n",
    "    annee=annee\n",
    ")"
   ]
  },
  {
   "cell_type": "code",
   "execution_count": 4,
   "metadata": {},
   "outputs": [],
   "source": [
    "livre.relations = {'primaire': {'contrainte_table_valeur': 'id_composite',\n",
    "  'contrainte_test_mod': 'id_mod',\n",
    "  'contrainte_test_var': 'id_var',\n",
    "  'contrainte_test_vers': 'id_versement'},\n",
    " 'etrangere': {'contrainte_test_mod': ('id_mod', 'id_mod'),\n",
    "  'contrainte_test_var': ('id_var', 'id_var'),\n",
    "  'contrainte_test_vers': ('id_versement', 'id_versement')}}"
   ]
  },
  {
   "cell_type": "code",
   "execution_count": 5,
   "metadata": {},
   "outputs": [
    {
     "name": "stdout",
     "output_type": "stream",
     "text": [
      "hab\n",
      "contrainte_table_valeur\n",
      "contrainte_test_var\n",
      "contrainte_test_mod\n",
      "contrainte_test_vers\n",
      "Contrainte primaire de contrainte_table_valeur ajoutée.\n",
      "Contrainte primaire de contrainte_test_var ajoutée.\n",
      "Contrainte primaire de contrainte_test_mod ajoutée.\n",
      "Contrainte primaire de contrainte_test_vers ajoutée.\n",
      "cles_etrangeres:{'contrainte_test_mod': ('id_mod', 'id_mod'), 'contrainte_test_var': ('id_var', 'id_var'), 'contrainte_test_vers': ('id_versement', 'id_versement')}\n",
      "Contraintes secondaires de contrainte_table_valeur ajoutées.\n",
      "ajout_contraintes a pris 0.07 secondes\n"
     ]
    }
   ],
   "source": [
    "versement = Versement(conn, livre)\n",
    "tables = [\n",
    "    'contrainte_table_valeur', # livre.nom_table,\n",
    "    'contrainte_test_var', # livre.nom_table_var,\n",
    "    'contrainte_test_mod', # livre.nom_table_mod,\n",
    "    'contrainte_test_vers', # livre.nom_table_vers,\n",
    "]\n",
    "print(schema)\n",
    "for nom in tables:\n",
    "    print(nom)\n",
    "versement.ajout_contraintes(schema, tables)"
   ]
  }
 ],
 "metadata": {
  "kernelspec": {
   "display_name": "venv_vers",
   "language": "python",
   "name": "python3"
  },
  "language_info": {
   "codemirror_mode": {
    "name": "ipython",
    "version": 3
   },
   "file_extension": ".py",
   "mimetype": "text/x-python",
   "name": "python",
   "nbconvert_exporter": "python",
   "pygments_lexer": "ipython3",
   "version": "3.12.3"
  }
 },
 "nbformat": 4,
 "nbformat_minor": 4
}
