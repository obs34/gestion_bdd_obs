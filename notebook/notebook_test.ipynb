{
 "cells": [
  {
   "cell_type": "markdown",
   "metadata": {},
   "source": [
    "# Notebook de versement de données\n",
    "\n",
    "Ce notebook permet de verser des données Excel dans une base PostgreSQL."
   ]
  },
  {
   "cell_type": "markdown",
   "metadata": {},
   "source": [
    "## 1. Importation des packages"
   ]
  },
  {
   "cell_type": "code",
   "execution_count": null,
   "metadata": {},
   "outputs": [],
   "source": [
    "import sys\n",
    "sys.path.append('..')\n",
    "\n",
    "from script.body.base_donnees import ConnectionBaseDeDonnees\n",
    "from script.body.livre import Livre\n",
    "from script.body.traitement import Traitement\n",
    "from script.body.versement import Versement\n",
    "from script.branch.gestion_dossier import GestionDossier\n",
    "from script.leaf.validator import DataValidator\n",
    "from script.leaf.catalogue import Catalogue\n",
    "from script.branch.gomme import Gomme"
   ]
  },
  {
   "cell_type": "markdown",
   "metadata": {},
   "source": [
    "## 2. Configuration de la connexion"
   ]
  },
  {
   "cell_type": "code",
   "execution_count": null,
   "metadata": {},
   "outputs": [],
   "source": [
    "# Connexion à la base de données\n",
    "db = ConnectionBaseDeDonnees()\n",
    "conn, schema = db.connexion_observatoire()"
   ]
  },
  {
   "cell_type": "markdown",
   "metadata": {},
   "source": [
    "## 3. Configuration du versement"
   ]
  },
  {
   "cell_type": "code",
   "execution_count": null,
   "metadata": {},
   "outputs": [],
   "source": [
    "# Paramètres du versement\n",
    "fichier_excel = \"hola.xlsx\"\n",
    "annee = 2025\n",
    "theme = \"theme\"\n",
    "base = \"base\"\n",
    "source = \"source\"\n",
    "\n",
    "# Validation du fichier\n",
    "if not DataValidator.validate_excel_file(fichier_excel):\n",
    "    raise ValueError(\"Fichier Excel invalide.\")\n",
    "else:\n",
    "    print(\"Fichier Excel valide.\")\n",
    "\n",
    "# Enregistrement des paramètres du versement\n",
    "livre = Livre(\n",
    "    conn, \n",
    "    schema=schema, \n",
    "    theme=theme,\n",
    "    base=base, \n",
    "    source=source, \n",
    "    annee=annee\n",
    ")\n",
    "livre.echelle = livre.choix_echelle()"
   ]
  },
  {
   "cell_type": "markdown",
   "metadata": {},
   "source": [
    "\n",
    "## Premiere modification : gere seulement l'emplacement \n"
   ]
  },
  {
   "cell_type": "code",
   "execution_count": null,
   "metadata": {},
   "outputs": [],
   "source": [
    "\n",
    "# Paramètres du versement\n",
    "fichier_excel = \"uto.x\"\n",
    "annee = 2025\n",
    "theme = \"theme\"\n",
    "base = \"base\"\n",
    "source = \"source\"\n",
    "\n",
    "try:\n",
    "    # Validation du fichier\n",
    "    if not DataValidator.validate_excel_file(fichier_excel):\n",
    "        raise ValueError(\"⚠️ Le fichier Excel fourni est invalide. Vérifiez son emplacement, son format et son contenu.\")\n",
    "\n",
    "    print(\"✅ Fichier Excel valide.\")\n",
    "\n",
    "    # Enregistrement des paramètres du versement\n",
    "    livre = Livre(\n",
    "        conn, \n",
    "        schema=schema, \n",
    "        theme=theme,\n",
    "        base=base, \n",
    "        source=source, \n",
    "        annee=annee\n",
    "    )\n",
    "    livre.echelle = livre.choix_echelle()\n",
    "\n",
    "except ValueError as e:\n",
    "    print(f\"🚨 Erreur : {e}\")  # Affichage propre du message d'erreur \n",
    "                               # Pour éviter l’affichage des erreurs dans la sortie de la cellule\n"
   ]
  },
  {
   "cell_type": "markdown",
   "metadata": {},
   "source": [
    "## Deuxieme test : Gere les trois erreur(Vérification de l'existence du fichier,Validation du format du fichier, Contrôle de l'intégrité du contenu)"
   ]
  },
  {
   "cell_type": "code",
   "execution_count": null,
   "metadata": {},
   "outputs": [],
   "source": [
    "import os\n",
    "\n",
    "def valider_fichier_excel(fichier):\n",
    "    erreurs = []\n",
    "\n",
    "    # Vérification de l'existence du fichier\n",
    "    if not os.path.isfile(fichier):\n",
    "        erreurs.append(f\"Le fichier '{fichier}' est introuvable. Vérifiez le chemin spécifié.\")\n",
    "\n",
    "    # Validation du format du fichier\n",
    "    if not fichier.endswith('.xlsx'):\n",
    "        erreurs.append(\"Le fichier n'est pas au format '.xlsx'. Veuillez fournir un fichier Excel valide.\")\n",
    "\n",
    "    # Validation du contenu du fichier\n",
    "    if not erreurs:  # Procéder à la validation du contenu uniquement si le fichier existe et a la bonne extension\n",
    "        if not DataValidator.validate_excel_file(fichier):\n",
    "            erreurs.append(\"Le contenu du fichier Excel est invalide. Vérifiez les données et la structure du fichier.\")\n",
    "\n",
    "    return erreurs\n",
    "\n",
    "# Paramètres du versement\n",
    "fichier_excel = \"uto.xlsx\"\n",
    "annee = 2025\n",
    "theme = \"theme\"\n",
    "base = \"base\"\n",
    "source = \"source\"\n",
    "\n",
    "try:\n",
    "    # Validation du fichier\n",
    "    erreurs = valider_fichier_excel(fichier_excel)\n",
    "    if erreurs:\n",
    "        raise ValueError(erreurs)\n",
    "\n",
    "    print(\"✅ Fichier Excel valide.\")\n",
    "\n",
    "    # Enregistrement des paramètres du versement\n",
    "    livre = Livre(\n",
    "        conn,\n",
    "        schema=schema,\n",
    "        theme=theme,\n",
    "        base=base,\n",
    "        source=source,\n",
    "        annee=annee\n",
    "    )\n",
    "    livre.echelle = livre.choix_echelle()\n",
    "\n",
    "except ValueError as e:\n",
    "    print(\"🚨 Erreur(s) détectée(s) :\")\n",
    "    for erreur in e.args[0]:\n",
    "        print(f\" - {erreur}\")\n",
    "except Exception as e:\n",
    "    print(f\"🚨 Une erreur inattendue s'est produite : {e}\")\n"
   ]
  },
  {
   "cell_type": "markdown",
   "metadata": {},
   "source": [
    "## Catalogue / Facultatif"
   ]
  },
  {
   "cell_type": "code",
   "execution_count": null,
   "metadata": {},
   "outputs": [],
   "source": [
    "catalogue = Catalogue(livre)\n",
    "catalogue.liste_table(afficher=True)"
   ]
  },
  {
   "cell_type": "code",
   "execution_count": null,
   "metadata": {},
   "outputs": [],
   "source": [
    "catalogue.catalogue()"
   ]
  },
  {
   "cell_type": "markdown",
   "metadata": {},
   "source": [
    "## 4. Traitement des données"
   ]
  },
  {
   "cell_type": "code",
   "execution_count": null,
   "metadata": {},
   "outputs": [],
   "source": [
    "# Traitement des données\n",
    "traiteur = Traitement(conn, fichier_excel, livre)\n",
    "traiteur.traitement()"
   ]
  },
  {
   "cell_type": "markdown",
   "metadata": {},
   "source": [
    "## 5. Sauvegarde en base de données"
   ]
  },
  {
   "cell_type": "code",
   "execution_count": null,
   "metadata": {},
   "outputs": [],
   "source": [
    "# Sauvegarde des données\n",
    "versement = Versement(conn, livre)\n",
    "versement.versement()"
   ]
  },
  {
   "cell_type": "markdown",
   "metadata": {},
   "source": [
    "## 6. Suppression des fichiers temporaires"
   ]
  },
  {
   "cell_type": "code",
   "execution_count": null,
   "metadata": {},
   "outputs": [],
   "source": [
    "gestionnaire_de_dossier = GestionDossier(livre)\n",
    "gestionnaire_de_dossier.delete_file()"
   ]
  },
  {
   "cell_type": "markdown",
   "metadata": {},
   "source": [
    "## 7. Suppression de table / versement"
   ]
  },
  {
   "cell_type": "code",
   "execution_count": null,
   "metadata": {},
   "outputs": [],
   "source": [
    "gomme = Gomme(conn, livre)\n",
    "gomme.suppression_table(table_cible='', id_versement_cible=None, garder_table=False)"
   ]
  }
 ],
 "metadata": {
  "kernelspec": {
   "display_name": "base",
   "language": "python",
   "name": "python3"
  },
  "language_info": {
   "codemirror_mode": {
    "name": "ipython",
    "version": 3
   },
   "file_extension": ".py",
   "mimetype": "text/x-python",
   "name": "python",
   "nbconvert_exporter": "python",
   "pygments_lexer": "ipython3",
   "version": "3.9.7"
  }
 },
 "nbformat": 4,
 "nbformat_minor": 4
}
